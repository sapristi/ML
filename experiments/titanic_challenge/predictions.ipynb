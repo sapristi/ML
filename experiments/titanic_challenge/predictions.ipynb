{
 "cells": [
  {
   "cell_type": "markdown",
   "metadata": {},
   "source": [
    "# Prédictions : courbes d'apprentissages selon différents modèles et différents paramètres\n",
    "\n",
    "Afin d'y voir un peu plus clair dans la jungle des paramètres possibles \n",
    "\n",
    " + feature engineering avec différentes échelles\n",
    " + différents tactiques d'imputation de données\n",
    " + etc\n",
    " \n",
    " on va tracer des courbes d'apprentissage, afin de sélectionner les meilleures options"
   ]
  },
  {
   "cell_type": "code",
   "execution_count": null,
   "metadata": {},
   "outputs": [],
   "source": []
  }
 ],
 "metadata": {
  "kernelspec": {
   "display_name": "R",
   "language": "R",
   "name": "ir"
  },
  "language_info": {
   "codemirror_mode": "r",
   "file_extension": ".r",
   "mimetype": "text/x-r-source",
   "name": "R",
   "pygments_lexer": "r",
   "version": "3.4.4"
  }
 },
 "nbformat": 4,
 "nbformat_minor": 2
}
